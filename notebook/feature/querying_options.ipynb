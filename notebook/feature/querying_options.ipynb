{
 "cells": [
  {
   "cell_type": "markdown",
   "id": "21cfea06-af98-496a-b13b-106c335a2e65",
   "metadata": {},
   "source": [
    "# Querying options\n",
    "\n",
    "It is possible to simply run a query with \n",
    "- either a vectorized version of some input supplied when running the query,\n",
    "- or an object from our storage that results in the most relevant items to the said object."
   ]
  },
  {
   "cell_type": "code",
   "execution_count": 1,
   "id": "1bf67328-efe5-4c88-9c36-ce2d4b20d89f",
   "metadata": {},
   "outputs": [],
   "source": [
    "%pip install qyver==19.2.3"
   ]
  },
  {
   "cell_type": "code",
   "execution_count": 2,
   "id": "5a25f839-c109-4447-adbe-0de4ff6f39cf",
   "metadata": {},
   "outputs": [],
   "source": [
    "import pandas as pd\n",
    "from qyver import framework as sl\n",
    "\n",
    "pd.set_option(\"display.max_colwidth\", 100)"
   ]
  },
  {
   "cell_type": "code",
   "execution_count": 3,
   "id": "08f71264-4cf4-405b-9f55-7ea2863c7924",
   "metadata": {},
   "outputs": [],
   "source": [
    "class Paragraph(sl.Schema):\n",
    "    id: sl.IdField\n",
    "    body: sl.String\n",
    "\n",
    "\n",
    "paragraph = Paragraph()\n",
    "\n",
    "body_space = sl.TextSimilaritySpace(text=paragraph.body, model=\"sentence-transformers/all-mpnet-base-v2\")\n",
    "paragraph_index = sl.Index(body_space)"
   ]
  },
  {
   "cell_type": "markdown",
   "id": "30e0ec2b-540b-4f77-8c7f-96c768f2029a",
   "metadata": {},
   "source": [
    "Now let's add some data to our space and fire up a running executor"
   ]
  },
  {
   "cell_type": "code",
   "execution_count": 4,
   "id": "979eaa8a-3cec-4340-bbf2-776f3c79dd67",
   "metadata": {},
   "outputs": [],
   "source": [
    "source: sl.InMemorySource = sl.InMemorySource(paragraph)\n",
    "executor = sl.InMemoryExecutor(sources=[source], indices=[paragraph_index])\n",
    "app = executor.run()"
   ]
  },
  {
   "cell_type": "code",
   "execution_count": 5,
   "id": "0d0e746f-fd42-4364-8453-320cf7c20035",
   "metadata": {},
   "outputs": [],
   "source": [
    "source.put(\n",
    "    [\n",
    "        {\"id\": \"paragraph-1\", \"body\": \"Glorious animals live in the wilderness.\"},\n",
    "        {\n",
    "            \"id\": \"paragraph-2\",\n",
    "            \"body\": \"Growing computation power enables advancements in AI.\",\n",
    "        },\n",
    "        {\n",
    "            \"id\": \"paragraph-3\",\n",
    "            \"body\": \"The flora and fauna of a specific habitat highly depend on the weather.\",\n",
    "        },\n",
    "    ]\n",
    ")"
   ]
  },
  {
   "cell_type": "markdown",
   "id": "127977d6-2c79-43bb-b41b-94b37f7f9245",
   "metadata": {},
   "source": [
    "## Using the .similar clause\n",
    "\n",
    "Makes us able to supply query input unrelated to the stored vectors."
   ]
  },
  {
   "cell_type": "code",
   "execution_count": 6,
   "id": "43fe15fb-2c7b-41fb-9f0c-0aa9d3260a64",
   "metadata": {},
   "outputs": [],
   "source": [
    "# we are creating a Param to reuse the query.\n",
    "# For more info check the `dynamic_parameters.ipynb` feature notebook in this same folder.\n",
    "similar_query = sl.Query(paragraph_index).find(paragraph).similar(body_space, sl.Param(\"similar_input\")).select_all()"
   ]
  },
  {
   "cell_type": "code",
   "execution_count": 7,
   "id": "823e5ed2-76a3-4b3e-b7d3-087cf4faead3",
   "metadata": {},
   "outputs": [
    {
     "data": {
      "text/html": [
       "<div>\n",
       "<style scoped>\n",
       "    .dataframe tbody tr th:only-of-type {\n",
       "        vertical-align: middle;\n",
       "    }\n",
       "\n",
       "    .dataframe tbody tr th {\n",
       "        vertical-align: top;\n",
       "    }\n",
       "\n",
       "    .dataframe thead th {\n",
       "        text-align: right;\n",
       "    }\n",
       "</style>\n",
       "<table border=\"1\" class=\"dataframe\">\n",
       "  <thead>\n",
       "    <tr style=\"text-align: right;\">\n",
       "      <th></th>\n",
       "      <th>body</th>\n",
       "      <th>id</th>\n",
       "      <th>similarity_score</th>\n",
       "    </tr>\n",
       "  </thead>\n",
       "  <tbody>\n",
       "    <tr>\n",
       "      <th>0</th>\n",
       "      <td>The flora and fauna of a specific habitat highly depend on the weather.</td>\n",
       "      <td>paragraph-3</td>\n",
       "      <td>0.337601</td>\n",
       "    </tr>\n",
       "    <tr>\n",
       "      <th>1</th>\n",
       "      <td>Glorious animals live in the wilderness.</td>\n",
       "      <td>paragraph-1</td>\n",
       "      <td>0.094036</td>\n",
       "    </tr>\n",
       "    <tr>\n",
       "      <th>2</th>\n",
       "      <td>Growing computation power enables advancements in AI.</td>\n",
       "      <td>paragraph-2</td>\n",
       "      <td>0.044686</td>\n",
       "    </tr>\n",
       "  </tbody>\n",
       "</table>\n",
       "</div>"
      ],
      "text/plain": [
       "                                                                      body  \\\n",
       "0  The flora and fauna of a specific habitat highly depend on the weather.   \n",
       "1                                 Glorious animals live in the wilderness.   \n",
       "2                    Growing computation power enables advancements in AI.   \n",
       "\n",
       "            id  similarity_score  \n",
       "0  paragraph-3          0.337601  \n",
       "1  paragraph-1          0.094036  \n",
       "2  paragraph-2          0.044686  "
      ]
     },
     "execution_count": 7,
     "metadata": {},
     "output_type": "execute_result"
    }
   ],
   "source": [
    "similar_result_weather = app.query(similar_query, similar_input=\"rainfall\")\n",
    "sl.PandasConverter.to_pandas(similar_result_weather)"
   ]
  },
  {
   "cell_type": "code",
   "execution_count": 8,
   "id": "9b2c9b39-820e-4e43-92fb-c4db619f745b",
   "metadata": {},
   "outputs": [
    {
     "data": {
      "text/html": [
       "<div>\n",
       "<style scoped>\n",
       "    .dataframe tbody tr th:only-of-type {\n",
       "        vertical-align: middle;\n",
       "    }\n",
       "\n",
       "    .dataframe tbody tr th {\n",
       "        vertical-align: top;\n",
       "    }\n",
       "\n",
       "    .dataframe thead th {\n",
       "        text-align: right;\n",
       "    }\n",
       "</style>\n",
       "<table border=\"1\" class=\"dataframe\">\n",
       "  <thead>\n",
       "    <tr style=\"text-align: right;\">\n",
       "      <th></th>\n",
       "      <th>body</th>\n",
       "      <th>id</th>\n",
       "      <th>similarity_score</th>\n",
       "    </tr>\n",
       "  </thead>\n",
       "  <tbody>\n",
       "    <tr>\n",
       "      <th>0</th>\n",
       "      <td>Growing computation power enables advancements in AI.</td>\n",
       "      <td>paragraph-2</td>\n",
       "      <td>0.598643</td>\n",
       "    </tr>\n",
       "    <tr>\n",
       "      <th>1</th>\n",
       "      <td>Glorious animals live in the wilderness.</td>\n",
       "      <td>paragraph-1</td>\n",
       "      <td>0.007107</td>\n",
       "    </tr>\n",
       "    <tr>\n",
       "      <th>2</th>\n",
       "      <td>The flora and fauna of a specific habitat highly depend on the weather.</td>\n",
       "      <td>paragraph-3</td>\n",
       "      <td>-0.121885</td>\n",
       "    </tr>\n",
       "  </tbody>\n",
       "</table>\n",
       "</div>"
      ],
      "text/plain": [
       "                                                                      body  \\\n",
       "0                    Growing computation power enables advancements in AI.   \n",
       "1                                 Glorious animals live in the wilderness.   \n",
       "2  The flora and fauna of a specific habitat highly depend on the weather.   \n",
       "\n",
       "            id  similarity_score  \n",
       "0  paragraph-2          0.598643  \n",
       "1  paragraph-1          0.007107  \n",
       "2  paragraph-3         -0.121885  "
      ]
     },
     "execution_count": 8,
     "metadata": {},
     "output_type": "execute_result"
    }
   ],
   "source": [
    "similar_result_it = app.query(similar_query, similar_input=\"progress in AI\")\n",
    "sl.PandasConverter.to_pandas(similar_result_it)"
   ]
  },
  {
   "cell_type": "markdown",
   "id": "c24cdb32-fa33-4fbd-82a6-48527cc8e8d5",
   "metadata": {},
   "source": [
    "## Using the .with_vector clause\n",
    "\n",
    "Provides the opportunity to search with the vector of an object in our database. This is useful for example for recommending items for a user based on it's vector."
   ]
  },
  {
   "cell_type": "code",
   "execution_count": 9,
   "id": "a2ed953c-4376-4cdc-a2c8-eba93fdeb622",
   "metadata": {},
   "outputs": [],
   "source": [
    "with_vector_query = sl.Query(paragraph_index).find(paragraph).with_vector(paragraph, \"paragraph-3\").select_all()"
   ]
  },
  {
   "cell_type": "code",
   "execution_count": 10,
   "id": "36ff4b5c-82ae-4555-a2f6-9bad9b4e73f3",
   "metadata": {},
   "outputs": [
    {
     "data": {
      "text/html": [
       "<div>\n",
       "<style scoped>\n",
       "    .dataframe tbody tr th:only-of-type {\n",
       "        vertical-align: middle;\n",
       "    }\n",
       "\n",
       "    .dataframe tbody tr th {\n",
       "        vertical-align: top;\n",
       "    }\n",
       "\n",
       "    .dataframe thead th {\n",
       "        text-align: right;\n",
       "    }\n",
       "</style>\n",
       "<table border=\"1\" class=\"dataframe\">\n",
       "  <thead>\n",
       "    <tr style=\"text-align: right;\">\n",
       "      <th></th>\n",
       "      <th>body</th>\n",
       "      <th>id</th>\n",
       "      <th>similarity_score</th>\n",
       "    </tr>\n",
       "  </thead>\n",
       "  <tbody>\n",
       "    <tr>\n",
       "      <th>0</th>\n",
       "      <td>The flora and fauna of a specific habitat highly depend on the weather.</td>\n",
       "      <td>paragraph-3</td>\n",
       "      <td>1.000000</td>\n",
       "    </tr>\n",
       "    <tr>\n",
       "      <th>1</th>\n",
       "      <td>Glorious animals live in the wilderness.</td>\n",
       "      <td>paragraph-1</td>\n",
       "      <td>0.310591</td>\n",
       "    </tr>\n",
       "    <tr>\n",
       "      <th>2</th>\n",
       "      <td>Growing computation power enables advancements in AI.</td>\n",
       "      <td>paragraph-2</td>\n",
       "      <td>-0.019059</td>\n",
       "    </tr>\n",
       "  </tbody>\n",
       "</table>\n",
       "</div>"
      ],
      "text/plain": [
       "                                                                      body  \\\n",
       "0  The flora and fauna of a specific habitat highly depend on the weather.   \n",
       "1                                 Glorious animals live in the wilderness.   \n",
       "2                    Growing computation power enables advancements in AI.   \n",
       "\n",
       "            id  similarity_score  \n",
       "0  paragraph-3          1.000000  \n",
       "1  paragraph-1          0.310591  \n",
       "2  paragraph-2         -0.019059  "
      ]
     },
     "execution_count": 10,
     "metadata": {},
     "output_type": "execute_result"
    }
   ],
   "source": [
    "with_vector_result = app.query(with_vector_query)\n",
    "sl.PandasConverter.to_pandas(with_vector_result)"
   ]
  },
  {
   "cell_type": "markdown",
   "id": "d773d9ea-fd4d-4657-8968-5bd2e1c87a07",
   "metadata": {},
   "source": [
    "The first result is the one we are searching with, the second is the more related one, and finally the less connected paragraph body comes."
   ]
  },
  {
   "cell_type": "markdown",
   "id": "a64368ea-22a8-4d62-913c-1a7b3defffee",
   "metadata": {},
   "source": [
    "## Combine them\n",
    "\n",
    "With the use of weights, creating any combination of inputs is possible. Imagine a situation where we search for a term, `similar_input` in those paragraphs that are relevant to a specific paragraph, denoted by `paragraph_id`. It is possible to weight the input using `input_weight` `Param`, in the relation to the context the search takes place inside using `context_weight` `Param`. Note that the `Param` names are totally arbitrary, the clauses matter."
   ]
  },
  {
   "cell_type": "code",
   "execution_count": 11,
   "id": "014cb6dc-9573-498e-8342-bcac7541a860",
   "metadata": {},
   "outputs": [],
   "source": [
    "# we are using dynamic parameters again\n",
    "combined_query = (\n",
    "    sl.Query(paragraph_index)\n",
    "    .find(paragraph)\n",
    "    .similar(body_space, sl.Param(\"similar_input\"), weight=sl.Param(\"input_weight\"))\n",
    "    .with_vector(paragraph, sl.Param(\"paragraph_id\"), weight=sl.Param(\"context_weight\"))\n",
    "    .select_all()\n",
    ")"
   ]
  },
  {
   "cell_type": "code",
   "execution_count": 12,
   "id": "87d6d6fe-56b5-422e-8bef-c3d9f5d4783c",
   "metadata": {},
   "outputs": [
    {
     "data": {
      "text/html": [
       "<div>\n",
       "<style scoped>\n",
       "    .dataframe tbody tr th:only-of-type {\n",
       "        vertical-align: middle;\n",
       "    }\n",
       "\n",
       "    .dataframe tbody tr th {\n",
       "        vertical-align: top;\n",
       "    }\n",
       "\n",
       "    .dataframe thead th {\n",
       "        text-align: right;\n",
       "    }\n",
       "</style>\n",
       "<table border=\"1\" class=\"dataframe\">\n",
       "  <thead>\n",
       "    <tr style=\"text-align: right;\">\n",
       "      <th></th>\n",
       "      <th>body</th>\n",
       "      <th>id</th>\n",
       "      <th>similarity_score</th>\n",
       "    </tr>\n",
       "  </thead>\n",
       "  <tbody>\n",
       "    <tr>\n",
       "      <th>0</th>\n",
       "      <td>The flora and fauna of a specific habitat highly depend on the weather.</td>\n",
       "      <td>paragraph-3</td>\n",
       "      <td>0.620921</td>\n",
       "    </tr>\n",
       "    <tr>\n",
       "      <th>1</th>\n",
       "      <td>Growing computation power enables advancements in AI.</td>\n",
       "      <td>paragraph-2</td>\n",
       "      <td>0.409828</td>\n",
       "    </tr>\n",
       "    <tr>\n",
       "      <th>2</th>\n",
       "      <td>Glorious animals live in the wilderness.</td>\n",
       "      <td>paragraph-1</td>\n",
       "      <td>0.224647</td>\n",
       "    </tr>\n",
       "  </tbody>\n",
       "</table>\n",
       "</div>"
      ],
      "text/plain": [
       "                                                                      body  \\\n",
       "0  The flora and fauna of a specific habitat highly depend on the weather.   \n",
       "1                    Growing computation power enables advancements in AI.   \n",
       "2                                 Glorious animals live in the wilderness.   \n",
       "\n",
       "            id  similarity_score  \n",
       "0  paragraph-3          0.620921  \n",
       "1  paragraph-2          0.409828  \n",
       "2  paragraph-1          0.224647  "
      ]
     },
     "execution_count": 12,
     "metadata": {},
     "output_type": "execute_result"
    }
   ],
   "source": [
    "# equal weight\n",
    "combined_result = app.query(\n",
    "    combined_query,\n",
    "    similar_input=\"progress in AI\",\n",
    "    paragraph_id=\"paragraph-3\",\n",
    "    input_weight=1,\n",
    "    context_weight=1,\n",
    ")\n",
    "sl.PandasConverter.to_pandas(combined_result)"
   ]
  },
  {
   "cell_type": "code",
   "execution_count": 13,
   "id": "590e00b8-0005-40df-bbc9-2eb4593fe726",
   "metadata": {},
   "outputs": [
    {
     "data": {
      "text/html": [
       "<div>\n",
       "<style scoped>\n",
       "    .dataframe tbody tr th:only-of-type {\n",
       "        vertical-align: middle;\n",
       "    }\n",
       "\n",
       "    .dataframe tbody tr th {\n",
       "        vertical-align: top;\n",
       "    }\n",
       "\n",
       "    .dataframe thead th {\n",
       "        text-align: right;\n",
       "    }\n",
       "</style>\n",
       "<table border=\"1\" class=\"dataframe\">\n",
       "  <thead>\n",
       "    <tr style=\"text-align: right;\">\n",
       "      <th></th>\n",
       "      <th>body</th>\n",
       "      <th>id</th>\n",
       "      <th>similarity_score</th>\n",
       "    </tr>\n",
       "  </thead>\n",
       "  <tbody>\n",
       "    <tr>\n",
       "      <th>0</th>\n",
       "      <td>The flora and fauna of a specific habitat highly depend on the weather.</td>\n",
       "      <td>paragraph-3</td>\n",
       "      <td>0.785410</td>\n",
       "    </tr>\n",
       "    <tr>\n",
       "      <th>1</th>\n",
       "      <td>Growing computation power enables advancements in AI.</td>\n",
       "      <td>paragraph-2</td>\n",
       "      <td>0.518396</td>\n",
       "    </tr>\n",
       "    <tr>\n",
       "      <th>2</th>\n",
       "      <td>Glorious animals live in the wilderness.</td>\n",
       "      <td>paragraph-1</td>\n",
       "      <td>0.284158</td>\n",
       "    </tr>\n",
       "  </tbody>\n",
       "</table>\n",
       "</div>"
      ],
      "text/plain": [
       "                                                                      body  \\\n",
       "0  The flora and fauna of a specific habitat highly depend on the weather.   \n",
       "1                    Growing computation power enables advancements in AI.   \n",
       "2                                 Glorious animals live in the wilderness.   \n",
       "\n",
       "            id  similarity_score  \n",
       "0  paragraph-3          0.785410  \n",
       "1  paragraph-2          0.518396  \n",
       "2  paragraph-1          0.284158  "
      ]
     },
     "execution_count": 13,
     "metadata": {},
     "output_type": "execute_result"
    }
   ],
   "source": [
    "# upweight context - notice the score differences\n",
    "combined_result_context = app.query(\n",
    "    combined_query,\n",
    "    similar_input=\"progress in AI\",\n",
    "    paragraph_id=\"paragraph-3\",\n",
    "    input_weight=0.25,\n",
    "    context_weight=1,\n",
    ")\n",
    "sl.PandasConverter.to_pandas(combined_result_context)"
   ]
  },
  {
   "cell_type": "code",
   "execution_count": 14,
   "id": "0e9cbf53-4829-49c2-96e7-e9aa81cbb6ad",
   "metadata": {},
   "outputs": [
    {
     "data": {
      "text/html": [
       "<div>\n",
       "<style scoped>\n",
       "    .dataframe tbody tr th:only-of-type {\n",
       "        vertical-align: middle;\n",
       "    }\n",
       "\n",
       "    .dataframe tbody tr th {\n",
       "        vertical-align: top;\n",
       "    }\n",
       "\n",
       "    .dataframe thead th {\n",
       "        text-align: right;\n",
       "    }\n",
       "</style>\n",
       "<table border=\"1\" class=\"dataframe\">\n",
       "  <thead>\n",
       "    <tr style=\"text-align: right;\">\n",
       "      <th></th>\n",
       "      <th>body</th>\n",
       "      <th>id</th>\n",
       "      <th>similarity_score</th>\n",
       "    </tr>\n",
       "  </thead>\n",
       "  <tbody>\n",
       "    <tr>\n",
       "      <th>0</th>\n",
       "      <td>Growing computation power enables advancements in AI.</td>\n",
       "      <td>paragraph-2</td>\n",
       "      <td>0.531181</td>\n",
       "    </tr>\n",
       "    <tr>\n",
       "      <th>1</th>\n",
       "      <td>The flora and fauna of a specific habitat highly depend on the weather.</td>\n",
       "      <td>paragraph-3</td>\n",
       "      <td>0.114589</td>\n",
       "    </tr>\n",
       "    <tr>\n",
       "      <th>2</th>\n",
       "      <td>Glorious animals live in the wilderness.</td>\n",
       "      <td>paragraph-1</td>\n",
       "      <td>0.075807</td>\n",
       "    </tr>\n",
       "  </tbody>\n",
       "</table>\n",
       "</div>"
      ],
      "text/plain": [
       "                                                                      body  \\\n",
       "0                    Growing computation power enables advancements in AI.   \n",
       "1  The flora and fauna of a specific habitat highly depend on the weather.   \n",
       "2                                 Glorious animals live in the wilderness.   \n",
       "\n",
       "            id  similarity_score  \n",
       "0  paragraph-2          0.531181  \n",
       "1  paragraph-3          0.114589  \n",
       "2  paragraph-1          0.075807  "
      ]
     },
     "execution_count": 14,
     "metadata": {},
     "output_type": "execute_result"
    }
   ],
   "source": [
    "# give more weight to query time input - the most relevant document changes\n",
    "combined_result_input = app.query(\n",
    "    combined_query,\n",
    "    similar_input=\"progress in AI\",\n",
    "    paragraph_id=\"paragraph-3\",\n",
    "    input_weight=1,\n",
    "    context_weight=0.25,\n",
    ")\n",
    "sl.PandasConverter.to_pandas(combined_result_input)"
   ]
  },
  {
   "cell_type": "markdown",
   "id": "7d6e49ea-4e6e-46e8-8605-e13f93d14772",
   "metadata": {},
   "source": [
    "## Filter results based on score or position"
   ]
  },
  {
   "cell_type": "code",
   "execution_count": 15,
   "id": "2332b7d5-65f2-4c54-978e-966f7e7e1a13",
   "metadata": {},
   "outputs": [],
   "source": [
    "# let's use combined query above with some preset params\n",
    "params = {\n",
    "    \"similar_input\": \"progress in AI\",\n",
    "    \"paragraph_id\": \"paragraph-3\",\n",
    "    \"input_weight\": 1,\n",
    "    \"context_weight\": 0.25,\n",
    "}"
   ]
  },
  {
   "cell_type": "code",
   "execution_count": 16,
   "id": "ed00fb14-cf99-4433-ab38-ea91af416966",
   "metadata": {},
   "outputs": [
    {
     "data": {
      "text/html": [
       "<div>\n",
       "<style scoped>\n",
       "    .dataframe tbody tr th:only-of-type {\n",
       "        vertical-align: middle;\n",
       "    }\n",
       "\n",
       "    .dataframe tbody tr th {\n",
       "        vertical-align: top;\n",
       "    }\n",
       "\n",
       "    .dataframe thead th {\n",
       "        text-align: right;\n",
       "    }\n",
       "</style>\n",
       "<table border=\"1\" class=\"dataframe\">\n",
       "  <thead>\n",
       "    <tr style=\"text-align: right;\">\n",
       "      <th></th>\n",
       "      <th>body</th>\n",
       "      <th>id</th>\n",
       "      <th>similarity_score</th>\n",
       "    </tr>\n",
       "  </thead>\n",
       "  <tbody>\n",
       "    <tr>\n",
       "      <th>0</th>\n",
       "      <td>Growing computation power enables advancements in AI.</td>\n",
       "      <td>paragraph-2</td>\n",
       "      <td>0.531181</td>\n",
       "    </tr>\n",
       "    <tr>\n",
       "      <th>1</th>\n",
       "      <td>The flora and fauna of a specific habitat highly depend on the weather.</td>\n",
       "      <td>paragraph-3</td>\n",
       "      <td>0.114589</td>\n",
       "    </tr>\n",
       "  </tbody>\n",
       "</table>\n",
       "</div>"
      ],
      "text/plain": [
       "                                                                      body  \\\n",
       "0                    Growing computation power enables advancements in AI.   \n",
       "1  The flora and fauna of a specific habitat highly depend on the weather.   \n",
       "\n",
       "            id  similarity_score  \n",
       "0  paragraph-2          0.531181  \n",
       "1  paragraph-3          0.114589  "
      ]
     },
     "execution_count": 16,
     "metadata": {},
     "output_type": "execute_result"
    }
   ],
   "source": [
    "# return top 2 items\n",
    "combined_query_limit_result = app.query(combined_query.limit(2), **params)\n",
    "sl.PandasConverter.to_pandas(combined_query_limit_result)"
   ]
  },
  {
   "cell_type": "code",
   "execution_count": 17,
   "id": "a14f155c-09c4-4cc9-b581-bf337011751d",
   "metadata": {},
   "outputs": [
    {
     "data": {
      "text/html": [
       "<div>\n",
       "<style scoped>\n",
       "    .dataframe tbody tr th:only-of-type {\n",
       "        vertical-align: middle;\n",
       "    }\n",
       "\n",
       "    .dataframe tbody tr th {\n",
       "        vertical-align: top;\n",
       "    }\n",
       "\n",
       "    .dataframe thead th {\n",
       "        text-align: right;\n",
       "    }\n",
       "</style>\n",
       "<table border=\"1\" class=\"dataframe\">\n",
       "  <thead>\n",
       "    <tr style=\"text-align: right;\">\n",
       "      <th></th>\n",
       "      <th>body</th>\n",
       "      <th>id</th>\n",
       "      <th>similarity_score</th>\n",
       "    </tr>\n",
       "  </thead>\n",
       "  <tbody>\n",
       "    <tr>\n",
       "      <th>0</th>\n",
       "      <td>Growing computation power enables advancements in AI.</td>\n",
       "      <td>paragraph-2</td>\n",
       "      <td>0.531181</td>\n",
       "    </tr>\n",
       "  </tbody>\n",
       "</table>\n",
       "</div>"
      ],
      "text/plain": [
       "                                                    body           id  \\\n",
       "0  Growing computation power enables advancements in AI.  paragraph-2   \n",
       "\n",
       "   similarity_score  \n",
       "0          0.531181  "
      ]
     },
     "execution_count": 17,
     "metadata": {},
     "output_type": "execute_result"
    }
   ],
   "source": [
    "# return items with scores larger than 0.5\n",
    "combined_query_radius_result = app.query(combined_query.radius(0.5), **params)\n",
    "sl.PandasConverter.to_pandas(combined_query_radius_result)"
   ]
  }
 ],
 "metadata": {
  "kernelspec": {
   "display_name": "qyver-py3.11",
   "language": "python",
   "name": "qyver-py3.11"
  },
  "language_info": {
   "codemirror_mode": {
    "name": "ipython",
    "version": 3
   },
   "file_extension": ".py",
   "mimetype": "text/x-python",
   "name": "python",
   "nbconvert_exporter": "python",
   "pygments_lexer": "ipython3",
   "version": "3.11.5"
  }
 },
 "nbformat": 4,
 "nbformat_minor": 5
}
